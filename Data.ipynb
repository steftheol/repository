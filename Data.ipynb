{
    "nbformat_minor": 1, 
    "cells": [
        {
            "source": "\n### Data\n\nTo find the best location for our sushi bar, we will use the following sources of information:\n\nNY has a total of 5 boroughs and 306 neighborhoods. In order to segement the neighborhoods and explore them, we will essentially need a dataset that contains the 5 boroughs and the neighborhoods that exist in each borough as well as the the latitude and logitude coordinates of each neighborhood. Here is the link to the dataset: https://geo.nyu.edu/catalog/nyu_2451_34572\n\n\nFrom Foursquare Venues Categories - https://developer.foursquare.com/docs/resources/categories Sushi category Id - 4bf58dd8d48988d1d2941735 ", 
            "cell_type": "markdown", 
            "metadata": {
                "collapsed": true
            }
        }, 
        {
            "execution_count": null, 
            "cell_type": "code", 
            "metadata": {}, 
            "outputs": [], 
            "source": ""
        }
    ], 
    "metadata": {
        "kernelspec": {
            "display_name": "Python 3.6", 
            "name": "python3", 
            "language": "python"
        }, 
        "language_info": {
            "mimetype": "text/x-python", 
            "nbconvert_exporter": "python", 
            "version": "3.6.8", 
            "name": "python", 
            "file_extension": ".py", 
            "pygments_lexer": "ipython3", 
            "codemirror_mode": {
                "version": 3, 
                "name": "ipython"
            }
        }
    }, 
    "nbformat": 4
}